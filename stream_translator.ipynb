{
  "cells": [
    {
      "cell_type": "code",
      "execution_count": null,
      "metadata": {
        "id": "qjcs6q2CsH-N"
      },
      "outputs": [],
      "source": [
        "# @title Install\n",
        "!pip install stream-translator-gpt"
      ]
    },
    {
      "cell_type": "code",
      "execution_count": null,
      "metadata": {
        "id": "kIFl41YXsLr2"
      },
      "outputs": [],
      "source": [
        "# @title Run\n",
        "URL = \"https://www.youtube.com/watch?v=r1dytEjbUqo\" # @param {type:\"string\"}\n",
        "model = \"large\" # @param [\"small\", \"medium\", \"large\"] {allow-input: true}\n",
        "language = \"ja\" # @param {type:\"string\"}\n",
        "translation_prompt = \"Translate from Japanese to Chinese, only output the translation, do not output the original text\" # @param {type:\"string\"}\n",
        "translation_engine = \"google\" # @param [\"openai\", \"google\"]\n",
        "api_key = \"\" # @param {type:\"string\"}\n",
        "# @markdown (Due to frequent scraping and theft of API keys, we are unable to provide a trial API key. You need to fill in your own API key.)\n",
        "translation_history_size = \"2\" # @param [\"0\", \"1\", \"2\", \"3\", \"4\", \"5\"] {allow-input: true}\n",
        "\n",
        "!stream-translator-gpt \"{URL}\" --model {model} --language {language} \\\n",
        "  --use_faster_whisper \\\n",
        "  --translation_prompt \"{translation_prompt}\" --{translation_engine}_api_key \"{api_key}\" --translation_history_size {translation_history_size}"
      ]
    }
  ],
  "metadata": {
    "accelerator": "GPU",
    "colab": {
      "gpuType": "T4",
      "provenance": []
    },
    "kernelspec": {
      "display_name": "Python 3",
      "name": "python3"
    },
    "language_info": {
      "name": "python"
    }
  },
  "nbformat": 4,
  "nbformat_minor": 0
}
